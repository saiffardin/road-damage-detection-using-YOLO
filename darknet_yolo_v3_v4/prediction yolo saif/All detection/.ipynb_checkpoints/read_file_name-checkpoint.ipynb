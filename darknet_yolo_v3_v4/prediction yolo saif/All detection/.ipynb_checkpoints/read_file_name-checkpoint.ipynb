{
 "cells": [
  {
   "cell_type": "code",
   "execution_count": 4,
   "id": "44cb9416",
   "metadata": {},
   "outputs": [
    {
     "name": "stdout",
     "output_type": "stream",
     "text": [
      "India_000027.jpg\n",
      "India_000052.jpg\n",
      "India_000053.jpg\n",
      "India_000057.jpg\n",
      "India_000082.jpg\n",
      "India_000291.jpg\n",
      "India_000362.jpg\n",
      "India_000386.jpg\n",
      "India_000589.jpg\n",
      "India_000664.jpg\n",
      "India_001004.jpg\n",
      "India_001329.jpg\n",
      "India_001495.jpg\n",
      "India_001704.jpg\n",
      "India_002404.jpg\n",
      "India_002509.jpg\n",
      "India_003553.jpg\n",
      "India_003943.jpg\n",
      "India_004572.jpg\n",
      "India_006619.jpg\n",
      "India_007153.jpg\n",
      "India_007329.jpg\n",
      "India_008043.jpg\n",
      "India_008218.jpg\n",
      "India_008327.jpg\n",
      "India_008790.jpg\n",
      "India_008988.jpg\n",
      "India_009261.jpg\n",
      "India_009842.jpg\n"
     ]
    }
   ],
   "source": [
    "import os\n",
    "\n",
    "path = 'raw_imgs'\n",
    "\n",
    "files = os.listdir(path)\n",
    "\n",
    "for f in files:\n",
    "    print(f)"
   ]
  },
  {
   "cell_type": "code",
   "execution_count": null,
   "id": "6959164c",
   "metadata": {},
   "outputs": [],
   "source": []
  }
 ],
 "metadata": {
  "kernelspec": {
   "display_name": "Python 3",
   "language": "python",
   "name": "python3"
  },
  "language_info": {
   "codemirror_mode": {
    "name": "ipython",
    "version": 3
   },
   "file_extension": ".py",
   "mimetype": "text/x-python",
   "name": "python",
   "nbconvert_exporter": "python",
   "pygments_lexer": "ipython3",
   "version": "3.8.8"
  }
 },
 "nbformat": 4,
 "nbformat_minor": 5
}
