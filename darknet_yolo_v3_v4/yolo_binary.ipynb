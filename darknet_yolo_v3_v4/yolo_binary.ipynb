{
  "nbformat": 4,
  "nbformat_minor": 0,
  "metadata": {
    "colab": {
      "name": "yolo_binary.ipynb",
      "provenance": [],
      "collapsed_sections": [],
      "authorship_tag": "ABX9TyMGe96WYyZtvUoyAQmZfDFR",
      "include_colab_link": true
    },
    "kernelspec": {
      "name": "python3",
      "display_name": "Python 3"
    },
    "language_info": {
      "name": "python"
    },
    "accelerator": "GPU"
  },
  "cells": [
    {
      "cell_type": "markdown",
      "metadata": {
        "id": "view-in-github",
        "colab_type": "text"
      },
      "source": [
        "<a href=\"https://colab.research.google.com/github/saiffardin/road-damage-detection-using-YOLO/blob/main/darknet_yolo_v3_v4/yolo_binary.ipynb\" target=\"_parent\"><img src=\"https://colab.research.google.com/assets/colab-badge.svg\" alt=\"Open In Colab\"/></a>"
      ]
    },
    {
      "cell_type": "markdown",
      "metadata": {
        "id": "R6qJCTUgmNt4"
      },
      "source": [
        "Tutorials I've followed -\n",
        "\n",
        "1.   [YOLOv4 in the CLOUD: Install and Run Object Detector (FREE GPU)](https://www.youtube.com/watch?v=mKAEGSxwOAY)\n",
        "2.   [how to train YOLO v3, v4 for custom objects detection | using colab free GPU](https://www.youtube.com/watch?v=hTCmL3S4Obw)\n",
        "\n"
      ]
    },
    {
      "cell_type": "code",
      "metadata": {
        "colab": {
          "base_uri": "https://localhost:8080/"
        },
        "id": "Nac8T0eVMSpt",
        "outputId": "a7423bc6-4fbf-4192-8e1f-e6b196ae10f4"
      },
      "source": [
        "!nvidia-smi"
      ],
      "execution_count": null,
      "outputs": [
        {
          "output_type": "stream",
          "text": [
            "Wed Jun 23 16:53:14 2021       \n",
            "+-----------------------------------------------------------------------------+\n",
            "| NVIDIA-SMI 465.27       Driver Version: 460.32.03    CUDA Version: 11.2     |\n",
            "|-------------------------------+----------------------+----------------------+\n",
            "| GPU  Name        Persistence-M| Bus-Id        Disp.A | Volatile Uncorr. ECC |\n",
            "| Fan  Temp  Perf  Pwr:Usage/Cap|         Memory-Usage | GPU-Util  Compute M. |\n",
            "|                               |                      |               MIG M. |\n",
            "|===============================+======================+======================|\n",
            "|   0  Tesla T4            Off  | 00000000:00:04.0 Off |                    0 |\n",
            "| N/A   49C    P8     9W /  70W |      0MiB / 15109MiB |      0%      Default |\n",
            "|                               |                      |                  N/A |\n",
            "+-------------------------------+----------------------+----------------------+\n",
            "                                                                               \n",
            "+-----------------------------------------------------------------------------+\n",
            "| Processes:                                                                  |\n",
            "|  GPU   GI   CI        PID   Type   Process name                  GPU Memory |\n",
            "|        ID   ID                                                   Usage      |\n",
            "|=============================================================================|\n",
            "|  No running processes found                                                 |\n",
            "+-----------------------------------------------------------------------------+\n"
          ],
          "name": "stdout"
        }
      ]
    },
    {
      "cell_type": "code",
      "metadata": {
        "colab": {
          "base_uri": "https://localhost:8080/"
        },
        "id": "OsYnitda_N6p",
        "outputId": "e355752c-b51a-449f-c2cb-6369a59b7e4c"
      },
      "source": [
        "from google.colab import drive\n",
        "drive.mount('/content/drive')"
      ],
      "execution_count": null,
      "outputs": [
        {
          "output_type": "stream",
          "text": [
            "Drive already mounted at /content/drive; to attempt to forcibly remount, call drive.mount(\"/content/drive\", force_remount=True).\n"
          ],
          "name": "stdout"
        }
      ]
    },
    {
      "cell_type": "markdown",
      "metadata": {
        "id": "FfPW2yAWSMpL"
      },
      "source": [
        "\n",
        "\n",
        "```\n",
        "function ClickConnect(){\n",
        "console.log(\"Working\"); \n",
        "document\n",
        "  .querySelector('#top-toolbar > colab-connect-button')\n",
        "  .shadowRoot.querySelector('#connect')\n",
        "  .click() \n",
        "}\n",
        "setInterval(ClickConnect,60000)\n",
        "```\n",
        "\n"
      ]
    },
    {
      "cell_type": "code",
      "metadata": {
        "id": "7FGVBtwI_pqD"
      },
      "source": [
        "# !unzip '/content/drive/My Drive/yolo_custom_model/custom_data_train.zip' -d '/content/drive/My Drive/yolo_custom_model/'"
      ],
      "execution_count": null,
      "outputs": []
    },
    {
      "cell_type": "code",
      "metadata": {
        "id": "mSoQwiCH_rbn"
      },
      "source": [
        "# !git clone 'https://github.com/alexeyAB/darknet.git' '/content/drive/My Drive/yolo_custom_model/darknet'"
      ],
      "execution_count": null,
      "outputs": []
    },
    {
      "cell_type": "code",
      "metadata": {
        "id": "-nGFxmDE_u57"
      },
      "source": [
        "# %cd /content/drive/My Drive/yolo_custom_model_binary/darknet"
      ],
      "execution_count": null,
      "outputs": []
    },
    {
      "cell_type": "code",
      "metadata": {
        "id": "orAotCnYATnd"
      },
      "source": [
        "# !ls"
      ],
      "execution_count": null,
      "outputs": []
    },
    {
      "cell_type": "code",
      "metadata": {
        "id": "GK_zNabP_1Fd"
      },
      "source": [
        "# !make"
      ],
      "execution_count": null,
      "outputs": []
    },
    {
      "cell_type": "code",
      "metadata": {
        "colab": {
          "base_uri": "https://localhost:8080/"
        },
        "id": "lpV_Cir6ISrr",
        "outputId": "625f0b2d-491a-43bd-d16f-2e968f3d092a"
      },
      "source": [
        "%cd /content/drive/My Drive/yolo_custom_model_binary"
      ],
      "execution_count": null,
      "outputs": [
        {
          "output_type": "stream",
          "text": [
            "/content/drive/My Drive/yolo_custom_model_binary\n"
          ],
          "name": "stdout"
        }
      ]
    },
    {
      "cell_type": "code",
      "metadata": {
        "colab": {
          "base_uri": "https://localhost:8080/"
        },
        "id": "3MC5LTpXYiZ_",
        "outputId": "77f88c41-d909-4270-957e-990b4920161d"
      },
      "source": [
        "!ls"
      ],
      "execution_count": null,
      "outputs": [
        {
          "output_type": "stream",
          "text": [
            "backup\t\t   custom_weight  data\t       modify_lables.ipynb\n",
            "custom_data_train  darknet\t  images_test  predictions.jpg\n"
          ],
          "name": "stdout"
        }
      ]
    },
    {
      "cell_type": "code",
      "metadata": {
        "id": "GqvxFx0vY07m"
      },
      "source": [
        "# if permission denied, then run this\n",
        "!chmod +x ./darknet/darknet"
      ],
      "execution_count": null,
      "outputs": []
    },
    {
      "cell_type": "code",
      "metadata": {
        "colab": {
          "base_uri": "https://localhost:8080/"
        },
        "id": "MMefkKKO_4x7",
        "outputId": "7a1145c8-c527-47ba-9484-3e0e963cc69f"
      },
      "source": [
        "!darknet/darknet"
      ],
      "execution_count": null,
      "outputs": [
        {
          "output_type": "stream",
          "text": [
            "usage: darknet/darknet <function>\n"
          ],
          "name": "stdout"
        }
      ]
    },
    {
      "cell_type": "code",
      "metadata": {
        "id": "8zJafVa8IhL2"
      },
      "source": [
        "# to create 'classes.names' file from 'classes.txt'\n",
        "\n",
        "# !python custom_data_train/creating-files-data-and-name.py"
      ],
      "execution_count": null,
      "outputs": []
    },
    {
      "cell_type": "code",
      "metadata": {
        "id": "9klyZoCQJYZP"
      },
      "source": [
        "# to create \"train.txt\" and \"test.txt\"\n",
        "# test.txt a -> 15% imgs ase\n",
        "\n",
        "# !python custom_data_train/creating-train-and-test-txt-files.py"
      ],
      "execution_count": null,
      "outputs": []
    },
    {
      "cell_type": "code",
      "metadata": {
        "colab": {
          "base_uri": "https://localhost:8080/"
        },
        "id": "lre4LdLyoTzC",
        "outputId": "274930f9-86d5-4fc4-d260-df9933f731ed"
      },
      "source": [
        "!pwd"
      ],
      "execution_count": null,
      "outputs": [
        {
          "output_type": "stream",
          "text": [
            "/content/drive/My Drive/yolo_custom_model_binary\n"
          ],
          "name": "stdout"
        }
      ]
    },
    {
      "cell_type": "code",
      "metadata": {
        "colab": {
          "base_uri": "https://localhost:8080/"
        },
        "id": "UrWNQsTkoX8H",
        "outputId": "7471f357-ca33-4392-d7f1-dea97bbf2670"
      },
      "source": [
        "!ls"
      ],
      "execution_count": null,
      "outputs": [
        {
          "output_type": "stream",
          "text": [
            "backup\t\t   custom_weight  data\t       modify_lables.ipynb\n",
            "custom_data_train  darknet\t  images_test  predictions.jpg\n"
          ],
          "name": "stdout"
        }
      ]
    },
    {
      "cell_type": "code",
      "metadata": {
        "id": "a3fznzWAJhNJ"
      },
      "source": [
        "# for training 1st time\n",
        "\n",
        "# YOLOv3\n",
        "# !darknet/darknet detector train custom_data_train/labelled_data.data darknet/cfg/yolov3_custom.cfg custom_weight/darknet53.conv.74 -dont_show -map\n",
        "\n",
        "\n",
        "# YOLOv4 \n",
        "# \"cfg\" file ebong \"custom_weight\" a chng ana lagse\n",
        "# !darknet/darknet detector train custom_data_train/labelled_data.data darknet/cfg/yolov4_custom.cfg custom_weight/yolov4.conv.137 -dont_show -map"
      ],
      "execution_count": null,
      "outputs": []
    },
    {
      "cell_type": "code",
      "metadata": {
        "id": "drSlX3nTPC0_"
      },
      "source": [
        "# kick off training from where it last saved\n",
        "\n",
        "# YOLOv3\n",
        "# !darknet/darknet detector train custom_data_train/labelled_data.data darknet/cfg/yolov3_custom.cfg backup/yolov3_custom_last.weights -dont_show -map\n",
        "\n",
        "\n",
        "# YOLOv4 \n",
        "# \"cfg\" file ebong \"custom_weight\" a chng ana lagse\n",
        "# !darknet/darknet detector train custom_data_train/labelled_data.data darknet/cfg/yolov4_custom.cfg backup/yolov4_custom_last.weights -dont_show -map"
      ],
      "execution_count": null,
      "outputs": []
    },
    {
      "cell_type": "code",
      "metadata": {
        "colab": {
          "base_uri": "https://localhost:8080/",
          "height": 34
        },
        "id": "uxQjvl85GR8Q",
        "outputId": "b2d55f5c-fec7-41df-fd46-cf25eb3ffa0f"
      },
      "source": [
        "download('chart_yolov4_custom.png')"
      ],
      "execution_count": null,
      "outputs": [
        {
          "output_type": "display_data",
          "data": {
            "application/javascript": [
              "\n",
              "    async function download(id, filename, size) {\n",
              "      if (!google.colab.kernel.accessAllowed) {\n",
              "        return;\n",
              "      }\n",
              "      const div = document.createElement('div');\n",
              "      const label = document.createElement('label');\n",
              "      label.textContent = `Downloading \"${filename}\": `;\n",
              "      div.appendChild(label);\n",
              "      const progress = document.createElement('progress');\n",
              "      progress.max = size;\n",
              "      div.appendChild(progress);\n",
              "      document.body.appendChild(div);\n",
              "\n",
              "      const buffers = [];\n",
              "      let downloaded = 0;\n",
              "\n",
              "      const channel = await google.colab.kernel.comms.open(id);\n",
              "      // Send a message to notify the kernel that we're ready.\n",
              "      channel.send({})\n",
              "\n",
              "      for await (const message of channel.messages) {\n",
              "        // Send a message to notify the kernel that we're ready.\n",
              "        channel.send({})\n",
              "        if (message.buffers) {\n",
              "          for (const buffer of message.buffers) {\n",
              "            buffers.push(buffer);\n",
              "            downloaded += buffer.byteLength;\n",
              "            progress.value = downloaded;\n",
              "          }\n",
              "        }\n",
              "      }\n",
              "      const blob = new Blob(buffers, {type: 'application/binary'});\n",
              "      const a = document.createElement('a');\n",
              "      a.href = window.URL.createObjectURL(blob);\n",
              "      a.download = filename;\n",
              "      div.appendChild(a);\n",
              "      a.click();\n",
              "      div.remove();\n",
              "    }\n",
              "  "
            ],
            "text/plain": [
              "<IPython.core.display.Javascript object>"
            ]
          },
          "metadata": {
            "tags": []
          }
        },
        {
          "output_type": "display_data",
          "data": {
            "application/javascript": [
              "download(\"download_6151d91e-397c-46de-9c57-5c85ac3ce0e4\", \"chart_yolov4_custom.png\", 73490)"
            ],
            "text/plain": [
              "<IPython.core.display.Javascript object>"
            ]
          },
          "metadata": {
            "tags": []
          }
        }
      ]
    },
    {
      "cell_type": "markdown",
      "metadata": {
        "id": "Nc1ZT5K4AymM"
      },
      "source": [
        "---\n",
        "\n",
        "<h1><center>Train kora shesh... ebar test korbo</center></h1>\n",
        "\n",
        "---\n",
        "\n"
      ]
    },
    {
      "cell_type": "markdown",
      "metadata": {
        "id": "jktX8u0zsN6n"
      },
      "source": [
        "# Step 4: Define Helper Functions\n",
        "\n",
        "These three functions are helper functions that will allow you to show the image in your Colab Notebook after running your detections, as well as upload and download images to and from your Cloud VM."
      ]
    },
    {
      "cell_type": "code",
      "metadata": {
        "id": "twuKcaUFsP2D"
      },
      "source": [
        "# define helper functions\n",
        "def imShow(path):\n",
        "  import cv2\n",
        "  import matplotlib.pyplot as plt\n",
        "  %matplotlib inline\n",
        "\n",
        "  image = cv2.imread(path)\n",
        "  height, width = image.shape[:2]\n",
        "  resized_image = cv2.resize(image,(3*width, 3*height), interpolation = cv2.INTER_CUBIC)\n",
        "\n",
        "  fig = plt.gcf()\n",
        "  fig.set_size_inches(18, 10)\n",
        "  plt.axis(\"off\")\n",
        "  plt.imshow(cv2.cvtColor(resized_image, cv2.COLOR_BGR2RGB))\n",
        "  plt.show()\n",
        "\n",
        "# use this to upload files\n",
        "def upload():\n",
        "  from google.colab import files\n",
        "  uploaded = files.upload() \n",
        "  for name, data in uploaded.items():\n",
        "    with open(name, 'wb') as f:\n",
        "      f.write(data)\n",
        "      print ('saved file', name)\n",
        "\n",
        "# use this to download a file  \n",
        "def download(path):\n",
        "  from google.colab import files\n",
        "  files.download(path)"
      ],
      "execution_count": null,
      "outputs": []
    },
    {
      "cell_type": "markdown",
      "metadata": {
        "id": "yNy_XGUtsisH"
      },
      "source": [
        "# Step 7: Run Your Custom Object Detector!!!\n",
        "You have done it! You now have a custom object detector to make your very own detections. Time to test it out and have some fun!"
      ]
    },
    {
      "cell_type": "code",
      "metadata": {
        "colab": {
          "base_uri": "https://localhost:8080/"
        },
        "id": "oqP918QhDKDm",
        "outputId": "4c007e98-6e93-45e7-fe6a-a01ee939abec"
      },
      "source": [
        "!pwd"
      ],
      "execution_count": null,
      "outputs": [
        {
          "output_type": "stream",
          "text": [
            "/content/drive/My Drive/yolo_custom_model_binary\n"
          ],
          "name": "stdout"
        }
      ]
    },
    {
      "cell_type": "code",
      "metadata": {
        "colab": {
          "base_uri": "https://localhost:8080/"
        },
        "id": "SJOlYGiADxaL",
        "outputId": "eb10c5f2-415c-4ea4-f9da-8ed783f0c4d9"
      },
      "source": [
        "!ls"
      ],
      "execution_count": null,
      "outputs": [
        {
          "output_type": "stream",
          "text": [
            "backup\t\t   darknet\tmodify_lables.ipynb\n",
            "custom_data_train  data\t\tmultiple_img_test\n",
            "custom_weight\t   images_test\tpredictions.jpg\n"
          ],
          "name": "stdout"
        }
      ]
    },
    {
      "cell_type": "code",
      "metadata": {
        "id": "f0U3BJYLs2bz"
      },
      "source": [
        "# for testing\n",
        "# -thresh 0.3\n",
        "\n",
        "\n",
        "# India_000052.jpg\n",
        "# India_000057.jpg\n",
        "# India_003553.jpg\n",
        "\n",
        "# India_003943.jpg\n",
        "# India_004572.jpg\n",
        "# India_009842.jpg\n",
        "\n",
        "\n",
        "# YOLOv3\n",
        "# !darknet/darknet detector test custom_data_train/labelled_data.data darknet/cfg/yolov3_custom_test.cfg backup/yolov3_custom_best.weights images_test/binary/v3/India_009842.jpg #-thresh 0.5\n",
        "imShow('predictions.jpg')"
      ],
      "execution_count": null,
      "outputs": []
    },
    {
      "cell_type": "code",
      "metadata": {
        "id": "SQKwSraM3_yA"
      },
      "source": [
        "# for testing\n",
        "# -thresh 0.3\n",
        "\n",
        "\n",
        "# YOLOv4\n",
        "# !darknet/darknet detector test custom_data_train/labelled_data.data darknet/cfg/yolov4_custom_test.cfg backup/yolov4_custom_best.weights multiple_img_test/India #-thresh 0.5\n",
        "imShow('predictions.jpg')"
      ],
      "execution_count": null,
      "outputs": []
    },
    {
      "cell_type": "code",
      "metadata": {
        "colab": {
          "base_uri": "https://localhost:8080/",
          "height": 17
        },
        "id": "G7NurOOnItVu",
        "outputId": "48fd441f-5921-44f6-a7c4-b061c1b41893"
      },
      "source": [
        "download('predictions.jpg')"
      ],
      "execution_count": null,
      "outputs": [
        {
          "output_type": "display_data",
          "data": {
            "application/javascript": [
              "\n",
              "    async function download(id, filename, size) {\n",
              "      if (!google.colab.kernel.accessAllowed) {\n",
              "        return;\n",
              "      }\n",
              "      const div = document.createElement('div');\n",
              "      const label = document.createElement('label');\n",
              "      label.textContent = `Downloading \"${filename}\": `;\n",
              "      div.appendChild(label);\n",
              "      const progress = document.createElement('progress');\n",
              "      progress.max = size;\n",
              "      div.appendChild(progress);\n",
              "      document.body.appendChild(div);\n",
              "\n",
              "      const buffers = [];\n",
              "      let downloaded = 0;\n",
              "\n",
              "      const channel = await google.colab.kernel.comms.open(id);\n",
              "      // Send a message to notify the kernel that we're ready.\n",
              "      channel.send({})\n",
              "\n",
              "      for await (const message of channel.messages) {\n",
              "        // Send a message to notify the kernel that we're ready.\n",
              "        channel.send({})\n",
              "        if (message.buffers) {\n",
              "          for (const buffer of message.buffers) {\n",
              "            buffers.push(buffer);\n",
              "            downloaded += buffer.byteLength;\n",
              "            progress.value = downloaded;\n",
              "          }\n",
              "        }\n",
              "      }\n",
              "      const blob = new Blob(buffers, {type: 'application/binary'});\n",
              "      const a = document.createElement('a');\n",
              "      a.href = window.URL.createObjectURL(blob);\n",
              "      a.download = filename;\n",
              "      div.appendChild(a);\n",
              "      a.click();\n",
              "      div.remove();\n",
              "    }\n",
              "  "
            ],
            "text/plain": [
              "<IPython.core.display.Javascript object>"
            ]
          },
          "metadata": {
            "tags": []
          }
        },
        {
          "output_type": "display_data",
          "data": {
            "application/javascript": [
              "download(\"download_832cc63e-cc10-412d-8cce-3cb3385bda78\", \"predictions.jpg\", 61629)"
            ],
            "text/plain": [
              "<IPython.core.display.Javascript object>"
            ]
          },
          "metadata": {
            "tags": []
          }
        }
      ]
    }
  ]
}