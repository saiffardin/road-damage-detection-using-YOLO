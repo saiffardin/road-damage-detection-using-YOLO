{
  "nbformat": 4,
  "nbformat_minor": 0,
  "metadata": {
    "colab": {
      "name": "yolo_multiclass.ipynb",
      "provenance": [],
      "collapsed_sections": [],
      "authorship_tag": "ABX9TyPoGnQScBKUzWVleDwqsN3I",
      "include_colab_link": true
    },
    "kernelspec": {
      "name": "python3",
      "display_name": "Python 3"
    },
    "language_info": {
      "name": "python"
    },
    "accelerator": "GPU"
  },
  "cells": [
    {
      "cell_type": "markdown",
      "metadata": {
        "id": "view-in-github",
        "colab_type": "text"
      },
      "source": [
        "<a href=\"https://colab.research.google.com/github/saiffardin/road-damage-detection-using-YOLO/blob/main/darknet_yolo_v3_v4/yolo_multiclass.ipynb\" target=\"_parent\"><img src=\"https://colab.research.google.com/assets/colab-badge.svg\" alt=\"Open In Colab\"/></a>"
      ]
    },
    {
      "cell_type": "code",
      "metadata": {
        "colab": {
          "base_uri": "https://localhost:8080/"
        },
        "id": "Nac8T0eVMSpt",
        "outputId": "ef21cc5e-6c42-474c-c838-f6e7cdd9a7a3"
      },
      "source": [
        "!nvidia-smi"
      ],
      "execution_count": null,
      "outputs": [
        {
          "output_type": "stream",
          "text": [
            "Wed Jun 23 13:19:35 2021       \n",
            "+-----------------------------------------------------------------------------+\n",
            "| NVIDIA-SMI 465.27       Driver Version: 460.32.03    CUDA Version: 11.2     |\n",
            "|-------------------------------+----------------------+----------------------+\n",
            "| GPU  Name        Persistence-M| Bus-Id        Disp.A | Volatile Uncorr. ECC |\n",
            "| Fan  Temp  Perf  Pwr:Usage/Cap|         Memory-Usage | GPU-Util  Compute M. |\n",
            "|                               |                      |               MIG M. |\n",
            "|===============================+======================+======================|\n",
            "|   0  Tesla T4            Off  | 00000000:00:04.0 Off |                    0 |\n",
            "| N/A   61C    P8    11W /  70W |      0MiB / 15109MiB |      0%      Default |\n",
            "|                               |                      |                  N/A |\n",
            "+-------------------------------+----------------------+----------------------+\n",
            "                                                                               \n",
            "+-----------------------------------------------------------------------------+\n",
            "| Processes:                                                                  |\n",
            "|  GPU   GI   CI        PID   Type   Process name                  GPU Memory |\n",
            "|        ID   ID                                                   Usage      |\n",
            "|=============================================================================|\n",
            "|  No running processes found                                                 |\n",
            "+-----------------------------------------------------------------------------+\n"
          ],
          "name": "stdout"
        }
      ]
    },
    {
      "cell_type": "code",
      "metadata": {
        "colab": {
          "base_uri": "https://localhost:8080/"
        },
        "id": "OsYnitda_N6p",
        "outputId": "5b3e03b0-1687-4721-a50d-aa39da1b0dac"
      },
      "source": [
        "from google.colab import drive\n",
        "drive.mount('/content/drive')"
      ],
      "execution_count": null,
      "outputs": [
        {
          "output_type": "stream",
          "text": [
            "Mounted at /content/drive\n"
          ],
          "name": "stdout"
        }
      ]
    },
    {
      "cell_type": "code",
      "metadata": {
        "id": "gPhe1trA_cT_"
      },
      "source": [
        "# !ls '/content/drive/My Drive/yolo_custom_model'"
      ],
      "execution_count": null,
      "outputs": []
    },
    {
      "cell_type": "code",
      "metadata": {
        "id": "7FGVBtwI_pqD"
      },
      "source": [
        "# !unzip '/content/drive/My Drive/yolo_custom_model/custom_data_train.zip' -d '/content/drive/My Drive/yolo_custom_model/'"
      ],
      "execution_count": null,
      "outputs": []
    },
    {
      "cell_type": "code",
      "metadata": {
        "id": "mSoQwiCH_rbn"
      },
      "source": [
        "# !git clone 'https://github.com/alexeyAB/darknet.git' '/content/drive/My Drive/yolo_custom_model/darknet'"
      ],
      "execution_count": null,
      "outputs": []
    },
    {
      "cell_type": "code",
      "metadata": {
        "id": "-nGFxmDE_u57"
      },
      "source": [
        "# %cd /content/drive/My Drive/yolo_custom_model/darknet"
      ],
      "execution_count": null,
      "outputs": []
    },
    {
      "cell_type": "code",
      "metadata": {
        "id": "orAotCnYATnd"
      },
      "source": [
        "# !ls"
      ],
      "execution_count": null,
      "outputs": []
    },
    {
      "cell_type": "code",
      "metadata": {
        "id": "GK_zNabP_1Fd"
      },
      "source": [
        "# !make"
      ],
      "execution_count": null,
      "outputs": []
    },
    {
      "cell_type": "code",
      "metadata": {
        "colab": {
          "base_uri": "https://localhost:8080/"
        },
        "id": "lpV_Cir6ISrr",
        "outputId": "44c31171-9318-4a88-f0aa-7040e2253750"
      },
      "source": [
        "%cd /content/drive/My Drive/yolo_custom_model"
      ],
      "execution_count": null,
      "outputs": [
        {
          "output_type": "stream",
          "text": [
            "/content/drive/My Drive/yolo_custom_model\n"
          ],
          "name": "stdout"
        }
      ]
    },
    {
      "cell_type": "code",
      "metadata": {
        "colab": {
          "base_uri": "https://localhost:8080/"
        },
        "id": "3MC5LTpXYiZ_",
        "outputId": "7b702040-9a45-4f91-c3ae-2438f5c0ee2c"
      },
      "source": [
        "!ls"
      ],
      "execution_count": null,
      "outputs": [
        {
          "output_type": "stream",
          "text": [
            "backup\t\t\t custom_data_train\tdarknet      predictions.jpg\n",
            "chart.png\t\t custom_data_train.zip\tdata\n",
            "chart_yolov4_custom.png  custom_weight\t\timages_test\n"
          ],
          "name": "stdout"
        }
      ]
    },
    {
      "cell_type": "code",
      "metadata": {
        "colab": {
          "base_uri": "https://localhost:8080/"
        },
        "id": "MMefkKKO_4x7",
        "outputId": "8572fc0e-392c-4659-a582-27f39cd6c979"
      },
      "source": [
        "!darknet/darknet"
      ],
      "execution_count": null,
      "outputs": [
        {
          "output_type": "stream",
          "text": [
            "usage: darknet/darknet <function>\n"
          ],
          "name": "stdout"
        }
      ]
    },
    {
      "cell_type": "code",
      "metadata": {
        "id": "GqvxFx0vY07m"
      },
      "source": [
        "# if permission denied, then run this\n",
        "!chmod +x ./darknet/darknet"
      ],
      "execution_count": null,
      "outputs": []
    },
    {
      "cell_type": "code",
      "metadata": {
        "id": "8zJafVa8IhL2"
      },
      "source": [
        "# to create 'classes.names' file from 'classes.txt'\n",
        "\n",
        "# !python custom_data_train/creating-files-data-and-name.py"
      ],
      "execution_count": null,
      "outputs": []
    },
    {
      "cell_type": "code",
      "metadata": {
        "id": "9klyZoCQJYZP"
      },
      "source": [
        "# to create \"train.txt\" and \"test.txt\"\n",
        "# test.txt a -> 15% imgs ase\n",
        "\n",
        "# !python custom_data_train/creating-train-and-test-txt-files.py"
      ],
      "execution_count": null,
      "outputs": []
    },
    {
      "cell_type": "code",
      "metadata": {
        "colab": {
          "base_uri": "https://localhost:8080/"
        },
        "id": "lre4LdLyoTzC",
        "outputId": "9d1fb2c4-feea-4f08-fa0b-d6a1b671f918"
      },
      "source": [
        "!pwd"
      ],
      "execution_count": null,
      "outputs": [
        {
          "output_type": "stream",
          "text": [
            "/content/drive/My Drive/yolo_custom_model\n"
          ],
          "name": "stdout"
        }
      ]
    },
    {
      "cell_type": "code",
      "metadata": {
        "colab": {
          "base_uri": "https://localhost:8080/"
        },
        "id": "UrWNQsTkoX8H",
        "outputId": "3f8929f9-8de2-4214-bb99-9f104f60d254"
      },
      "source": [
        "!ls"
      ],
      "execution_count": null,
      "outputs": [
        {
          "output_type": "stream",
          "text": [
            "backup\t\t\t custom_data_train\tdarknet      predictions.jpg\n",
            "chart.png\t\t custom_data_train.zip\tdata\n",
            "chart_yolov4_custom.png  custom_weight\t\timages_test\n"
          ],
          "name": "stdout"
        }
      ]
    },
    {
      "cell_type": "code",
      "metadata": {
        "id": "a3fznzWAJhNJ"
      },
      "source": [
        "# for training\n",
        "\n",
        "# YOLOv3\n",
        "# !darknet/darknet detector train custom_data_train/labelled_data.data darknet/cfg/yolov3_custom.cfg custom_weight/darknet53.conv.74 -dont_show\n",
        "\n",
        "# YOLOv4 \n",
        "# \"cfg\" file ebong \"custom_weight\" a chng ana lagse\n",
        "# !darknet/darknet detector train custom_data_train/labelled_data.data darknet/cfg/yolov4_custom.cfg custom_weight/yolov4.conv.137 -dont_show -map\n",
        "\n",
        "\n",
        "\n",
        "# kick off training from where it last saved\n",
        "# !darknet/darknet detector train custom_data_train/labelled_data.data darknet/cfg/yolov3_custom.cfg backup/yolov3_custom_last.weights -dont_show -map\n",
        "# !darknet/darknet detector train custom_data_train/labelled_data.data darknet/cfg/yolov4_custom.cfg backup/yolov4_custom_last.weights -dont_show -map\n"
      ],
      "execution_count": null,
      "outputs": []
    },
    {
      "cell_type": "markdown",
      "metadata": {
        "id": "Nc1ZT5K4AymM"
      },
      "source": [
        "---\n",
        "\n",
        "<h1><center>Train kora shesh... ebar test korbo</center></h1>\n",
        "\n",
        "---\n",
        "\n"
      ]
    },
    {
      "cell_type": "markdown",
      "metadata": {
        "id": "jktX8u0zsN6n"
      },
      "source": [
        "# Step 4: Define Helper Functions\n",
        "\n",
        "These three functions are helper functions that will allow you to show the image in your Colab Notebook after running your detections, as well as upload and download images to and from your Cloud VM."
      ]
    },
    {
      "cell_type": "code",
      "metadata": {
        "id": "twuKcaUFsP2D"
      },
      "source": [
        "# define helper functions\n",
        "def imShow(path):\n",
        "  import cv2\n",
        "  import matplotlib.pyplot as plt\n",
        "  %matplotlib inline\n",
        "\n",
        "  image = cv2.imread(path)\n",
        "  height, width = image.shape[:2]\n",
        "  resized_image = cv2.resize(image,(3*width, 3*height), interpolation = cv2.INTER_CUBIC)\n",
        "\n",
        "  fig = plt.gcf()\n",
        "  fig.set_size_inches(18, 10)\n",
        "  plt.axis(\"off\")\n",
        "  plt.imshow(cv2.cvtColor(resized_image, cv2.COLOR_BGR2RGB))\n",
        "  plt.show()\n",
        "\n",
        "# use this to upload files\n",
        "def upload():\n",
        "  from google.colab import files\n",
        "  uploaded = files.upload() \n",
        "  for name, data in uploaded.items():\n",
        "    with open(name, 'wb') as f:\n",
        "      f.write(data)\n",
        "      print ('saved file', name)\n",
        "\n",
        "# use this to download a file  \n",
        "def download(path):\n",
        "  from google.colab import files\n",
        "  files.download(path)"
      ],
      "execution_count": null,
      "outputs": []
    },
    {
      "cell_type": "markdown",
      "metadata": {
        "id": "yNy_XGUtsisH"
      },
      "source": [
        "# Step 7: Run Your Custom Object Detector!!!\n",
        "You have done it! You now have a custom object detector to make your very own detections. Time to test it out and have some fun!"
      ]
    },
    {
      "cell_type": "code",
      "metadata": {
        "colab": {
          "base_uri": "https://localhost:8080/"
        },
        "id": "oqP918QhDKDm",
        "outputId": "b6c41da9-1999-4463-e506-5fec42b5ef1b"
      },
      "source": [
        "!pwd"
      ],
      "execution_count": null,
      "outputs": [
        {
          "output_type": "stream",
          "text": [
            "/content/drive/My Drive/yolo_custom_model\n"
          ],
          "name": "stdout"
        }
      ]
    },
    {
      "cell_type": "code",
      "metadata": {
        "colab": {
          "base_uri": "https://localhost:8080/"
        },
        "id": "SJOlYGiADxaL",
        "outputId": "e9f24bd9-8d19-44f2-ccff-fe1bcf534a39"
      },
      "source": [
        "!ls"
      ],
      "execution_count": null,
      "outputs": [
        {
          "output_type": "stream",
          "text": [
            "backup\t\t\t custom_data_train\tdarknet      predictions.jpg\n",
            "chart.png\t\t custom_data_train.zip\tdata\n",
            "chart_yolov4_custom.png  custom_weight\t\timages_test\n"
          ],
          "name": "stdout"
        }
      ]
    },
    {
      "cell_type": "code",
      "metadata": {
        "id": "f0U3BJYLs2bz"
      },
      "source": [
        "# for testing\n",
        "# -thresh 0.3\n",
        "\n",
        "# India_002404.jpg -> v4 - D00 D40\n",
        "# India_006619.jpg -> v4 - D10\n",
        "# India_007153.jpg -> v4 - D00\n",
        "# India_009842.jpg -> v4 - D10 D20\n",
        "# India_001495.jpg -> v4 - D20\n",
        "\n",
        "\n",
        "\n",
        "# !darknet/darknet detector test custom_data_train/labelled_data.data darknet/cfg/yolov3_custom_test.cfg backup/yolov3_custom_best.weights images_test/imgs_for_multiclass/India_001495.jpg\n",
        "# imShow('predictions.jpg')"
      ],
      "execution_count": null,
      "outputs": []
    },
    {
      "cell_type": "code",
      "metadata": {
        "id": "BafjrTCwB902"
      },
      "source": [
        "# India_000589.jpg -> failed to detect anything\n",
        "# India_001495.jpg -> failed to detect anything\n",
        "# India_002404.jpg -> baad\n",
        "\n",
        "# India_004572.jpg -> D10 D40\n",
        "# India_006619.jpg -> failed to detect anything\n",
        "# India_007153.jpg -> failed to detect anything\n",
        " \n",
        "# India_007329.jpg -> baad\n",
        "# India_008218.jpg -> bad - onk gula detect korse\n",
        "# India_008790.jpg -> failed to detect anything\n",
        "\n",
        "# India_009842.jpg -> bhalona - D20\n",
        "\n",
        "\n",
        "# !darknet/darknet detector test custom_data_train/labelled_data.data darknet/cfg/yolov3_custom_test.cfg backup/yolov3_custom_best.weights images_test/imgs_for_multiclass/India_004572.jpg\n",
        "# imShow('predictions.jpg')"
      ],
      "execution_count": null,
      "outputs": []
    },
    {
      "cell_type": "code",
      "metadata": {
        "id": "gTzwO85ya5ED"
      },
      "source": [
        "\n",
        "# India_000362.jpg\n",
        "# India_001004.jpg\n",
        "\n",
        "# India_003943.jpg\n",
        "# India_002509.jpg\n",
        "# India_008043.jpg\n",
        "\n",
        "\n",
        "\n",
        "!darknet/darknet detector test custom_data_train/labelled_data.data darknet/cfg/yolov3_custom_test.cfg backup/yolov3_custom_best.weights images_test/imgs_for_multiclass/India_008043.jpg \n",
        "imShow('predictions.jpg')"
      ],
      "execution_count": null,
      "outputs": []
    },
    {
      "cell_type": "code",
      "metadata": {
        "colab": {
          "base_uri": "https://localhost:8080/",
          "height": 17
        },
        "id": "G7NurOOnItVu",
        "outputId": "65a05283-8fb9-4ae2-fe89-bb2bf28b7de2"
      },
      "source": [
        "download('predictions.jpg')\n",
        "# 4572_mul_v3_D10_mixed"
      ],
      "execution_count": null,
      "outputs": [
        {
          "output_type": "display_data",
          "data": {
            "application/javascript": [
              "\n",
              "    async function download(id, filename, size) {\n",
              "      if (!google.colab.kernel.accessAllowed) {\n",
              "        return;\n",
              "      }\n",
              "      const div = document.createElement('div');\n",
              "      const label = document.createElement('label');\n",
              "      label.textContent = `Downloading \"${filename}\": `;\n",
              "      div.appendChild(label);\n",
              "      const progress = document.createElement('progress');\n",
              "      progress.max = size;\n",
              "      div.appendChild(progress);\n",
              "      document.body.appendChild(div);\n",
              "\n",
              "      const buffers = [];\n",
              "      let downloaded = 0;\n",
              "\n",
              "      const channel = await google.colab.kernel.comms.open(id);\n",
              "      // Send a message to notify the kernel that we're ready.\n",
              "      channel.send({})\n",
              "\n",
              "      for await (const message of channel.messages) {\n",
              "        // Send a message to notify the kernel that we're ready.\n",
              "        channel.send({})\n",
              "        if (message.buffers) {\n",
              "          for (const buffer of message.buffers) {\n",
              "            buffers.push(buffer);\n",
              "            downloaded += buffer.byteLength;\n",
              "            progress.value = downloaded;\n",
              "          }\n",
              "        }\n",
              "      }\n",
              "      const blob = new Blob(buffers, {type: 'application/binary'});\n",
              "      const a = document.createElement('a');\n",
              "      a.href = window.URL.createObjectURL(blob);\n",
              "      a.download = filename;\n",
              "      div.appendChild(a);\n",
              "      a.click();\n",
              "      div.remove();\n",
              "    }\n",
              "  "
            ],
            "text/plain": [
              "<IPython.core.display.Javascript object>"
            ]
          },
          "metadata": {
            "tags": []
          }
        },
        {
          "output_type": "display_data",
          "data": {
            "application/javascript": [
              "download(\"download_897030d7-3e43-4a5e-9604-682468b6ec47\", \"predictions.jpg\", 64957)"
            ],
            "text/plain": [
              "<IPython.core.display.Javascript object>"
            ]
          },
          "metadata": {
            "tags": []
          }
        }
      ]
    }
  ]
}